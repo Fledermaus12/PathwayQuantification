{
 "cells": [
  {
   "cell_type": "code",
   "execution_count": 2,
   "metadata": {},
   "outputs": [
    {
     "name": "stdout",
     "output_type": "stream",
     "text": [
      "/Users/jakobsommer/Library/CloudStorage/OneDrive-UniklinikRWTHAachen/Dokumente/ADRED_automatic_v3/pipeline_v2\n"
     ]
    }
   ],
   "source": [
    "# Imports\n",
    "\n",
    "import pandas as pd\n",
    "import numpy as np\n",
    "from sklearn.metrics import cohen_kappa_score\n",
    "import os\n",
    "\n",
    "cwd = os.getcwd()\n",
    "print(cwd)\n"
   ]
  },
  {
   "cell_type": "code",
   "execution_count": 3,
   "metadata": {},
   "outputs": [
    {
     "data": {
      "text/html": [
       "<div>\n",
       "<style scoped>\n",
       "    .dataframe tbody tr th:only-of-type {\n",
       "        vertical-align: middle;\n",
       "    }\n",
       "\n",
       "    .dataframe tbody tr th {\n",
       "        vertical-align: top;\n",
       "    }\n",
       "\n",
       "    .dataframe thead th {\n",
       "        text-align: right;\n",
       "    }\n",
       "</style>\n",
       "<table border=\"1\" class=\"dataframe\">\n",
       "  <thead>\n",
       "    <tr style=\"text-align: right;\">\n",
       "      <th></th>\n",
       "      <th>case_id</th>\n",
       "      <th>Z_Wirkstoff_Gesamt</th>\n",
       "      <th>Z_ATC_Gesamt</th>\n",
       "      <th>AllInteraction</th>\n",
       "      <th>2d6sub</th>\n",
       "      <th>2c19sub</th>\n",
       "      <th>2c9sub</th>\n",
       "    </tr>\n",
       "  </thead>\n",
       "  <tbody>\n",
       "    <tr>\n",
       "      <th>10_1_1</th>\n",
       "      <td>10_1</td>\n",
       "      <td>Phenprocoumon</td>\n",
       "      <td>B01AA04</td>\n",
       "      <td>[3a4sub, 2c9sub]</td>\n",
       "      <td>0</td>\n",
       "      <td>0</td>\n",
       "      <td>1</td>\n",
       "    </tr>\n",
       "    <tr>\n",
       "      <th>10_1_2</th>\n",
       "      <td>10_1</td>\n",
       "      <td>Oxcarbazepin</td>\n",
       "      <td>N03AF02</td>\n",
       "      <td>[2c19inh, 3a4ind, 3a4inh]</td>\n",
       "      <td>0</td>\n",
       "      <td>0</td>\n",
       "      <td>0</td>\n",
       "    </tr>\n",
       "    <tr>\n",
       "      <th>10_1_3</th>\n",
       "      <td>10_1</td>\n",
       "      <td>Pravastatin</td>\n",
       "      <td>C10AA03</td>\n",
       "      <td>[]</td>\n",
       "      <td>0</td>\n",
       "      <td>0</td>\n",
       "      <td>0</td>\n",
       "    </tr>\n",
       "    <tr>\n",
       "      <th>10_1_4</th>\n",
       "      <td>10_1</td>\n",
       "      <td>Levetiracetam</td>\n",
       "      <td>N03AX14</td>\n",
       "      <td>[]</td>\n",
       "      <td>0</td>\n",
       "      <td>0</td>\n",
       "      <td>0</td>\n",
       "    </tr>\n",
       "    <tr>\n",
       "      <th>10_1_5</th>\n",
       "      <td>10_1</td>\n",
       "      <td>Pantoprazol</td>\n",
       "      <td>A02BC02</td>\n",
       "      <td>[2c19inh, 2c19sub, 3a4sub]</td>\n",
       "      <td>0</td>\n",
       "      <td>1</td>\n",
       "      <td>0</td>\n",
       "    </tr>\n",
       "    <tr>\n",
       "      <th>...</th>\n",
       "      <td>...</td>\n",
       "      <td>...</td>\n",
       "      <td>...</td>\n",
       "      <td>...</td>\n",
       "      <td>...</td>\n",
       "      <td>...</td>\n",
       "      <td>...</td>\n",
       "    </tr>\n",
       "    <tr>\n",
       "      <th>999_1_5</th>\n",
       "      <td>999_1</td>\n",
       "      <td>Trospium</td>\n",
       "      <td>G04BD09</td>\n",
       "      <td>[2d6inh]</td>\n",
       "      <td>0</td>\n",
       "      <td>0</td>\n",
       "      <td>0</td>\n",
       "    </tr>\n",
       "    <tr>\n",
       "      <th>999_1_6</th>\n",
       "      <td>999_1</td>\n",
       "      <td>Metoprolol</td>\n",
       "      <td>C07AB02</td>\n",
       "      <td>[3a4sub, 2d6sub, 2d6inh]</td>\n",
       "      <td>1</td>\n",
       "      <td>0</td>\n",
       "      <td>0</td>\n",
       "    </tr>\n",
       "    <tr>\n",
       "      <th>999_1_7</th>\n",
       "      <td>999_1</td>\n",
       "      <td>Cabergolin</td>\n",
       "      <td>N04BC06</td>\n",
       "      <td>[3a4sub]</td>\n",
       "      <td>0</td>\n",
       "      <td>0</td>\n",
       "      <td>0</td>\n",
       "    </tr>\n",
       "    <tr>\n",
       "      <th>999_1_8</th>\n",
       "      <td>999_1</td>\n",
       "      <td>Ramipril</td>\n",
       "      <td>C09AA05</td>\n",
       "      <td>[]</td>\n",
       "      <td>0</td>\n",
       "      <td>0</td>\n",
       "      <td>0</td>\n",
       "    </tr>\n",
       "    <tr>\n",
       "      <th>999_1_9</th>\n",
       "      <td>999_1</td>\n",
       "      <td>Amlodipin</td>\n",
       "      <td>C08CA01</td>\n",
       "      <td>[3a4sub, 2d6inh]</td>\n",
       "      <td>0</td>\n",
       "      <td>0</td>\n",
       "      <td>0</td>\n",
       "    </tr>\n",
       "  </tbody>\n",
       "</table>\n",
       "<p>21721 rows × 7 columns</p>\n",
       "</div>"
      ],
      "text/plain": [
       "        case_id Z_Wirkstoff_Gesamt Z_ATC_Gesamt              AllInteraction  \\\n",
       "10_1_1     10_1      Phenprocoumon      B01AA04            [3a4sub, 2c9sub]   \n",
       "10_1_2     10_1       Oxcarbazepin      N03AF02   [2c19inh, 3a4ind, 3a4inh]   \n",
       "10_1_3     10_1        Pravastatin      C10AA03                          []   \n",
       "10_1_4     10_1      Levetiracetam      N03AX14                          []   \n",
       "10_1_5     10_1        Pantoprazol      A02BC02  [2c19inh, 2c19sub, 3a4sub]   \n",
       "...         ...                ...          ...                         ...   \n",
       "999_1_5   999_1           Trospium      G04BD09                    [2d6inh]   \n",
       "999_1_6   999_1         Metoprolol      C07AB02    [3a4sub, 2d6sub, 2d6inh]   \n",
       "999_1_7   999_1         Cabergolin      N04BC06                    [3a4sub]   \n",
       "999_1_8   999_1           Ramipril      C09AA05                          []   \n",
       "999_1_9   999_1          Amlodipin      C08CA01            [3a4sub, 2d6inh]   \n",
       "\n",
       "         2d6sub  2c19sub  2c9sub  \n",
       "10_1_1        0        0       1  \n",
       "10_1_2        0        0       0  \n",
       "10_1_3        0        0       0  \n",
       "10_1_4        0        0       0  \n",
       "10_1_5        0        1       0  \n",
       "...         ...      ...     ...  \n",
       "999_1_5       0        0       0  \n",
       "999_1_6       1        0       0  \n",
       "999_1_7       0        0       0  \n",
       "999_1_8       0        0       0  \n",
       "999_1_9       0        0       0  \n",
       "\n",
       "[21721 rows x 7 columns]"
      ]
     },
     "execution_count": 3,
     "metadata": {},
     "output_type": "execute_result"
    }
   ],
   "source": [
    "drc = pd.read_json(r'drc_p3eva.json', orient='index', convert_axes=False, dtype=False)\n",
    "drc.drop(columns=['3a4sub', '1a2sub'], inplace=True)\n",
    "drc\n"
   ]
  },
  {
   "attachments": {},
   "cell_type": "markdown",
   "metadata": {},
   "source": [
    "Here we took out the file that only had classification from <b>ATC alone</b>:"
   ]
  },
  {
   "cell_type": "code",
   "execution_count": 4,
   "metadata": {},
   "outputs": [
    {
     "data": {
      "text/html": [
       "<div>\n",
       "<style scoped>\n",
       "    .dataframe tbody tr th:only-of-type {\n",
       "        vertical-align: middle;\n",
       "    }\n",
       "\n",
       "    .dataframe tbody tr th {\n",
       "        vertical-align: top;\n",
       "    }\n",
       "\n",
       "    .dataframe thead th {\n",
       "        text-align: right;\n",
       "    }\n",
       "</style>\n",
       "<table border=\"1\" class=\"dataframe\">\n",
       "  <thead>\n",
       "    <tr style=\"text-align: right;\">\n",
       "      <th></th>\n",
       "      <th>case_id</th>\n",
       "      <th>Z_Wirkstoff_Gesamt</th>\n",
       "      <th>Z_ATC_Gesamt</th>\n",
       "      <th>AllInteraction</th>\n",
       "    </tr>\n",
       "  </thead>\n",
       "  <tbody>\n",
       "    <tr>\n",
       "      <th>10_1_1</th>\n",
       "      <td>10_1</td>\n",
       "      <td>Phenprocoumon</td>\n",
       "      <td>B01AA04</td>\n",
       "      <td>[3a4sub, 2c9sub]</td>\n",
       "    </tr>\n",
       "    <tr>\n",
       "      <th>10_1_2</th>\n",
       "      <td>10_1</td>\n",
       "      <td>Oxcarbazepin</td>\n",
       "      <td>N03AF02</td>\n",
       "      <td>[2c19inh, 3a4ind, 3a4inh]</td>\n",
       "    </tr>\n",
       "    <tr>\n",
       "      <th>10_1_3</th>\n",
       "      <td>10_1</td>\n",
       "      <td>Pravastatin</td>\n",
       "      <td>C10AA03</td>\n",
       "      <td>[]</td>\n",
       "    </tr>\n",
       "    <tr>\n",
       "      <th>10_1_4</th>\n",
       "      <td>10_1</td>\n",
       "      <td>Levetiracetam</td>\n",
       "      <td>N03AX14</td>\n",
       "      <td>[]</td>\n",
       "    </tr>\n",
       "    <tr>\n",
       "      <th>10_1_5</th>\n",
       "      <td>10_1</td>\n",
       "      <td>Pantoprazol</td>\n",
       "      <td>A02BC02</td>\n",
       "      <td>[2c19inh, 2c19sub, 3a4sub]</td>\n",
       "    </tr>\n",
       "    <tr>\n",
       "      <th>...</th>\n",
       "      <td>...</td>\n",
       "      <td>...</td>\n",
       "      <td>...</td>\n",
       "      <td>...</td>\n",
       "    </tr>\n",
       "    <tr>\n",
       "      <th>999_1_5</th>\n",
       "      <td>999_1</td>\n",
       "      <td>Trospium</td>\n",
       "      <td>G04BD09</td>\n",
       "      <td>[2d6inh]</td>\n",
       "    </tr>\n",
       "    <tr>\n",
       "      <th>999_1_6</th>\n",
       "      <td>999_1</td>\n",
       "      <td>Metoprolol</td>\n",
       "      <td>C07AB02</td>\n",
       "      <td>[3a4sub, 2d6sub, 2d6inh]</td>\n",
       "    </tr>\n",
       "    <tr>\n",
       "      <th>999_1_7</th>\n",
       "      <td>999_1</td>\n",
       "      <td>Cabergolin</td>\n",
       "      <td>N04BC06</td>\n",
       "      <td>[3a4sub]</td>\n",
       "    </tr>\n",
       "    <tr>\n",
       "      <th>999_1_8</th>\n",
       "      <td>999_1</td>\n",
       "      <td>Ramipril</td>\n",
       "      <td>C09AA05</td>\n",
       "      <td>[]</td>\n",
       "    </tr>\n",
       "    <tr>\n",
       "      <th>999_1_9</th>\n",
       "      <td>999_1</td>\n",
       "      <td>Amlodipin</td>\n",
       "      <td>C08CA01</td>\n",
       "      <td>[3a4sub, 2d6inh]</td>\n",
       "    </tr>\n",
       "  </tbody>\n",
       "</table>\n",
       "<p>21721 rows × 4 columns</p>\n",
       "</div>"
      ],
      "text/plain": [
       "        case_id Z_Wirkstoff_Gesamt Z_ATC_Gesamt              AllInteraction\n",
       "10_1_1     10_1      Phenprocoumon      B01AA04            [3a4sub, 2c9sub]\n",
       "10_1_2     10_1       Oxcarbazepin      N03AF02   [2c19inh, 3a4ind, 3a4inh]\n",
       "10_1_3     10_1        Pravastatin      C10AA03                          []\n",
       "10_1_4     10_1      Levetiracetam      N03AX14                          []\n",
       "10_1_5     10_1        Pantoprazol      A02BC02  [2c19inh, 2c19sub, 3a4sub]\n",
       "...         ...                ...          ...                         ...\n",
       "999_1_5   999_1           Trospium      G04BD09                    [2d6inh]\n",
       "999_1_6   999_1         Metoprolol      C07AB02    [3a4sub, 2d6sub, 2d6inh]\n",
       "999_1_7   999_1         Cabergolin      N04BC06                    [3a4sub]\n",
       "999_1_8   999_1           Ramipril      C09AA05                          []\n",
       "999_1_9   999_1          Amlodipin      C08CA01            [3a4sub, 2d6inh]\n",
       "\n",
       "[21721 rows x 4 columns]"
      ]
     },
     "execution_count": 4,
     "metadata": {},
     "output_type": "execute_result"
    }
   ],
   "source": [
    "# Import for automatic classification (ATC only)\n",
    "drcatc = pd.read_json(r'drc_p1_pv2.json', orient='index', convert_axes=False, dtype=False)\n",
    "drcatc"
   ]
  },
  {
   "cell_type": "code",
   "execution_count": 5,
   "metadata": {},
   "outputs": [
    {
     "data": {
      "text/html": [
       "<div>\n",
       "<style scoped>\n",
       "    .dataframe tbody tr th:only-of-type {\n",
       "        vertical-align: middle;\n",
       "    }\n",
       "\n",
       "    .dataframe tbody tr th {\n",
       "        vertical-align: top;\n",
       "    }\n",
       "\n",
       "    .dataframe thead th {\n",
       "        text-align: right;\n",
       "    }\n",
       "</style>\n",
       "<table border=\"1\" class=\"dataframe\">\n",
       "  <thead>\n",
       "    <tr style=\"text-align: right;\">\n",
       "      <th></th>\n",
       "      <th>CYP2C9.1</th>\n",
       "      <th>CYP2C19.1</th>\n",
       "      <th>CYP2D6.1</th>\n",
       "    </tr>\n",
       "    <tr>\n",
       "      <th>case_line_id</th>\n",
       "      <th></th>\n",
       "      <th></th>\n",
       "      <th></th>\n",
       "    </tr>\n",
       "  </thead>\n",
       "  <tbody>\n",
       "    <tr>\n",
       "      <th>10_1_1</th>\n",
       "      <td>1.0</td>\n",
       "      <td>0.0</td>\n",
       "      <td>0.0</td>\n",
       "    </tr>\n",
       "    <tr>\n",
       "      <th>10_1_2</th>\n",
       "      <td>NaN</td>\n",
       "      <td>NaN</td>\n",
       "      <td>NaN</td>\n",
       "    </tr>\n",
       "    <tr>\n",
       "      <th>10_1_3</th>\n",
       "      <td>NaN</td>\n",
       "      <td>NaN</td>\n",
       "      <td>NaN</td>\n",
       "    </tr>\n",
       "    <tr>\n",
       "      <th>10_1_4</th>\n",
       "      <td>NaN</td>\n",
       "      <td>NaN</td>\n",
       "      <td>NaN</td>\n",
       "    </tr>\n",
       "    <tr>\n",
       "      <th>10_1_5</th>\n",
       "      <td>0.0</td>\n",
       "      <td>1.0</td>\n",
       "      <td>0.0</td>\n",
       "    </tr>\n",
       "    <tr>\n",
       "      <th>...</th>\n",
       "      <td>...</td>\n",
       "      <td>...</td>\n",
       "      <td>...</td>\n",
       "    </tr>\n",
       "    <tr>\n",
       "      <th>999_1_5</th>\n",
       "      <td>NaN</td>\n",
       "      <td>NaN</td>\n",
       "      <td>NaN</td>\n",
       "    </tr>\n",
       "    <tr>\n",
       "      <th>999_1_6</th>\n",
       "      <td>0.0</td>\n",
       "      <td>0.0</td>\n",
       "      <td>1.0</td>\n",
       "    </tr>\n",
       "    <tr>\n",
       "      <th>999_1_7</th>\n",
       "      <td>NaN</td>\n",
       "      <td>NaN</td>\n",
       "      <td>NaN</td>\n",
       "    </tr>\n",
       "    <tr>\n",
       "      <th>999_1_8</th>\n",
       "      <td>0.0</td>\n",
       "      <td>0.0</td>\n",
       "      <td>0.0</td>\n",
       "    </tr>\n",
       "    <tr>\n",
       "      <th>999_1_9</th>\n",
       "      <td>0.0</td>\n",
       "      <td>0.0</td>\n",
       "      <td>0.0</td>\n",
       "    </tr>\n",
       "  </tbody>\n",
       "</table>\n",
       "<p>21721 rows × 3 columns</p>\n",
       "</div>"
      ],
      "text/plain": [
       "              CYP2C9.1  CYP2C19.1  CYP2D6.1\n",
       "case_line_id                               \n",
       "10_1_1             1.0        0.0       0.0\n",
       "10_1_2             NaN        NaN       NaN\n",
       "10_1_3             NaN        NaN       NaN\n",
       "10_1_4             NaN        NaN       NaN\n",
       "10_1_5             0.0        1.0       0.0\n",
       "...                ...        ...       ...\n",
       "999_1_5            NaN        NaN       NaN\n",
       "999_1_6            0.0        0.0       1.0\n",
       "999_1_7            NaN        NaN       NaN\n",
       "999_1_8            0.0        0.0       0.0\n",
       "999_1_9            0.0        0.0       0.0\n",
       "\n",
       "[21721 rows x 3 columns]"
      ]
     },
     "execution_count": 5,
     "metadata": {},
     "output_type": "execute_result"
    }
   ],
   "source": [
    "\n",
    "man = pd.read_excel(r'CYP_Substrate_haendisch.xlsx')\n",
    "man = man.loc[:,['case_line_id', 'CYP2C9.1', 'CYP2C19.1', 'CYP2D6.1']]\n",
    "man = man.set_index('case_line_id')\n",
    "man"
   ]
  },
  {
   "attachments": {},
   "cell_type": "markdown",
   "metadata": {},
   "source": [
    "<h2>Pre-Analysis Modification</h2>\n",
    "<br>\n",
    "Mark all data points of automatic classification with err1 as np.nan to increase compability with manual classfication. Save in a mastersheet called data. Further analysis has to be done on the mastersheet. "
   ]
  },
  {
   "cell_type": "code",
   "execution_count": 6,
   "metadata": {},
   "outputs": [
    {
     "data": {
      "text/html": [
       "<div>\n",
       "<style scoped>\n",
       "    .dataframe tbody tr th:only-of-type {\n",
       "        vertical-align: middle;\n",
       "    }\n",
       "\n",
       "    .dataframe tbody tr th {\n",
       "        vertical-align: top;\n",
       "    }\n",
       "\n",
       "    .dataframe thead th {\n",
       "        text-align: right;\n",
       "    }\n",
       "</style>\n",
       "<table border=\"1\" class=\"dataframe\">\n",
       "  <thead>\n",
       "    <tr style=\"text-align: right;\">\n",
       "      <th></th>\n",
       "      <th>case_id</th>\n",
       "      <th>Z_Wirkstoff_Gesamt</th>\n",
       "      <th>Z_ATC_Gesamt</th>\n",
       "      <th>AllInteraction</th>\n",
       "      <th>2d6sub</th>\n",
       "      <th>2c19sub</th>\n",
       "      <th>2c9sub</th>\n",
       "      <th>CYP2C9.1</th>\n",
       "      <th>CYP2C19.1</th>\n",
       "      <th>CYP2D6.1</th>\n",
       "    </tr>\n",
       "  </thead>\n",
       "  <tbody>\n",
       "    <tr>\n",
       "      <th>10_1_1</th>\n",
       "      <td>10_1</td>\n",
       "      <td>Phenprocoumon</td>\n",
       "      <td>B01AA04</td>\n",
       "      <td>[3a4sub, 2c9sub]</td>\n",
       "      <td>0.0</td>\n",
       "      <td>0.0</td>\n",
       "      <td>1.0</td>\n",
       "      <td>1.0</td>\n",
       "      <td>0.0</td>\n",
       "      <td>0.0</td>\n",
       "    </tr>\n",
       "    <tr>\n",
       "      <th>10_1_2</th>\n",
       "      <td>10_1</td>\n",
       "      <td>Oxcarbazepin</td>\n",
       "      <td>N03AF02</td>\n",
       "      <td>[2c19inh, 3a4ind, 3a4inh]</td>\n",
       "      <td>0.0</td>\n",
       "      <td>0.0</td>\n",
       "      <td>0.0</td>\n",
       "      <td>NaN</td>\n",
       "      <td>NaN</td>\n",
       "      <td>NaN</td>\n",
       "    </tr>\n",
       "    <tr>\n",
       "      <th>10_1_3</th>\n",
       "      <td>10_1</td>\n",
       "      <td>Pravastatin</td>\n",
       "      <td>C10AA03</td>\n",
       "      <td>[]</td>\n",
       "      <td>0.0</td>\n",
       "      <td>0.0</td>\n",
       "      <td>0.0</td>\n",
       "      <td>NaN</td>\n",
       "      <td>NaN</td>\n",
       "      <td>NaN</td>\n",
       "    </tr>\n",
       "    <tr>\n",
       "      <th>10_1_4</th>\n",
       "      <td>10_1</td>\n",
       "      <td>Levetiracetam</td>\n",
       "      <td>N03AX14</td>\n",
       "      <td>[]</td>\n",
       "      <td>0.0</td>\n",
       "      <td>0.0</td>\n",
       "      <td>0.0</td>\n",
       "      <td>NaN</td>\n",
       "      <td>NaN</td>\n",
       "      <td>NaN</td>\n",
       "    </tr>\n",
       "    <tr>\n",
       "      <th>10_1_5</th>\n",
       "      <td>10_1</td>\n",
       "      <td>Pantoprazol</td>\n",
       "      <td>A02BC02</td>\n",
       "      <td>[2c19inh, 2c19sub, 3a4sub]</td>\n",
       "      <td>0.0</td>\n",
       "      <td>1.0</td>\n",
       "      <td>0.0</td>\n",
       "      <td>0.0</td>\n",
       "      <td>1.0</td>\n",
       "      <td>0.0</td>\n",
       "    </tr>\n",
       "    <tr>\n",
       "      <th>...</th>\n",
       "      <td>...</td>\n",
       "      <td>...</td>\n",
       "      <td>...</td>\n",
       "      <td>...</td>\n",
       "      <td>...</td>\n",
       "      <td>...</td>\n",
       "      <td>...</td>\n",
       "      <td>...</td>\n",
       "      <td>...</td>\n",
       "      <td>...</td>\n",
       "    </tr>\n",
       "    <tr>\n",
       "      <th>999_1_5</th>\n",
       "      <td>999_1</td>\n",
       "      <td>Trospium</td>\n",
       "      <td>G04BD09</td>\n",
       "      <td>[2d6inh]</td>\n",
       "      <td>0.0</td>\n",
       "      <td>0.0</td>\n",
       "      <td>0.0</td>\n",
       "      <td>NaN</td>\n",
       "      <td>NaN</td>\n",
       "      <td>NaN</td>\n",
       "    </tr>\n",
       "    <tr>\n",
       "      <th>999_1_6</th>\n",
       "      <td>999_1</td>\n",
       "      <td>Metoprolol</td>\n",
       "      <td>C07AB02</td>\n",
       "      <td>[3a4sub, 2d6sub, 2d6inh]</td>\n",
       "      <td>1.0</td>\n",
       "      <td>0.0</td>\n",
       "      <td>0.0</td>\n",
       "      <td>0.0</td>\n",
       "      <td>0.0</td>\n",
       "      <td>1.0</td>\n",
       "    </tr>\n",
       "    <tr>\n",
       "      <th>999_1_7</th>\n",
       "      <td>999_1</td>\n",
       "      <td>Cabergolin</td>\n",
       "      <td>N04BC06</td>\n",
       "      <td>[3a4sub]</td>\n",
       "      <td>0.0</td>\n",
       "      <td>0.0</td>\n",
       "      <td>0.0</td>\n",
       "      <td>NaN</td>\n",
       "      <td>NaN</td>\n",
       "      <td>NaN</td>\n",
       "    </tr>\n",
       "    <tr>\n",
       "      <th>999_1_8</th>\n",
       "      <td>999_1</td>\n",
       "      <td>Ramipril</td>\n",
       "      <td>C09AA05</td>\n",
       "      <td>[]</td>\n",
       "      <td>0.0</td>\n",
       "      <td>0.0</td>\n",
       "      <td>0.0</td>\n",
       "      <td>0.0</td>\n",
       "      <td>0.0</td>\n",
       "      <td>0.0</td>\n",
       "    </tr>\n",
       "    <tr>\n",
       "      <th>999_1_9</th>\n",
       "      <td>999_1</td>\n",
       "      <td>Amlodipin</td>\n",
       "      <td>C08CA01</td>\n",
       "      <td>[3a4sub, 2d6inh]</td>\n",
       "      <td>0.0</td>\n",
       "      <td>0.0</td>\n",
       "      <td>0.0</td>\n",
       "      <td>0.0</td>\n",
       "      <td>0.0</td>\n",
       "      <td>0.0</td>\n",
       "    </tr>\n",
       "  </tbody>\n",
       "</table>\n",
       "<p>21721 rows × 10 columns</p>\n",
       "</div>"
      ],
      "text/plain": [
       "        case_id Z_Wirkstoff_Gesamt Z_ATC_Gesamt              AllInteraction  \\\n",
       "10_1_1     10_1      Phenprocoumon      B01AA04            [3a4sub, 2c9sub]   \n",
       "10_1_2     10_1       Oxcarbazepin      N03AF02   [2c19inh, 3a4ind, 3a4inh]   \n",
       "10_1_3     10_1        Pravastatin      C10AA03                          []   \n",
       "10_1_4     10_1      Levetiracetam      N03AX14                          []   \n",
       "10_1_5     10_1        Pantoprazol      A02BC02  [2c19inh, 2c19sub, 3a4sub]   \n",
       "...         ...                ...          ...                         ...   \n",
       "999_1_5   999_1           Trospium      G04BD09                    [2d6inh]   \n",
       "999_1_6   999_1         Metoprolol      C07AB02    [3a4sub, 2d6sub, 2d6inh]   \n",
       "999_1_7   999_1         Cabergolin      N04BC06                    [3a4sub]   \n",
       "999_1_8   999_1           Ramipril      C09AA05                          []   \n",
       "999_1_9   999_1          Amlodipin      C08CA01            [3a4sub, 2d6inh]   \n",
       "\n",
       "         2d6sub  2c19sub  2c9sub  CYP2C9.1  CYP2C19.1  CYP2D6.1  \n",
       "10_1_1      0.0      0.0     1.0       1.0        0.0       0.0  \n",
       "10_1_2      0.0      0.0     0.0       NaN        NaN       NaN  \n",
       "10_1_3      0.0      0.0     0.0       NaN        NaN       NaN  \n",
       "10_1_4      0.0      0.0     0.0       NaN        NaN       NaN  \n",
       "10_1_5      0.0      1.0     0.0       0.0        1.0       0.0  \n",
       "...         ...      ...     ...       ...        ...       ...  \n",
       "999_1_5     0.0      0.0     0.0       NaN        NaN       NaN  \n",
       "999_1_6     1.0      0.0     0.0       0.0        0.0       1.0  \n",
       "999_1_7     0.0      0.0     0.0       NaN        NaN       NaN  \n",
       "999_1_8     0.0      0.0     0.0       0.0        0.0       0.0  \n",
       "999_1_9     0.0      0.0     0.0       0.0        0.0       0.0  \n",
       "\n",
       "[21721 rows x 10 columns]"
      ]
     },
     "execution_count": 6,
     "metadata": {},
     "output_type": "execute_result"
    }
   ],
   "source": [
    "# mark all those who could not been found as np.nan\n",
    "s = drc.AllInteraction.str.contains('err1', regex=False)\n",
    "err_drc = drc.loc[s].copy()\n",
    "err_drc.loc[:, '2d6sub':'2c9sub'] = 99 #um nan = 0 nicht mit kein-substrat=0 zu verwechseln\n",
    "drc.update(err_drc)\n",
    "drc.replace(99, np.nan, inplace=True) \n",
    "# ab jetzt alle fehlende Daten, die zuvor mit 'err1' markiert sind als np.nan\n",
    "\n",
    "del s\n",
    "\n",
    "mastersheet = drc.join(man, how='inner', lsuffix='_drc', rsuffix='_man')\n",
    "mastersheet"
   ]
  },
  {
   "cell_type": "code",
   "execution_count": 7,
   "metadata": {},
   "outputs": [],
   "source": [
    "# Create pair to make it easier for later analysis\n",
    "pair = {\n",
    "    '2d6': ['2d6sub', 'CYP2D6.1'],\n",
    "    '2c9': ['2c9sub', 'CYP2C9.1'],\n",
    "    '2c19': ['2c19sub', 'CYP2C19.1']\n",
    "}"
   ]
  },
  {
   "attachments": {},
   "cell_type": "markdown",
   "metadata": {},
   "source": [
    "<h2>Classification rates</h2>"
   ]
  },
  {
   "cell_type": "code",
   "execution_count": 8,
   "metadata": {},
   "outputs": [
    {
     "data": {
      "text/plain": [
       "case_id                  0\n",
       "Z_Wirkstoff_Gesamt       0\n",
       "Z_ATC_Gesamt             5\n",
       "AllInteraction           0\n",
       "2d6sub                 983\n",
       "2c19sub                983\n",
       "2c9sub                 983\n",
       "CYP2C9.1              8199\n",
       "CYP2C19.1             8199\n",
       "CYP2D6.1              8199\n",
       "dtype: int64"
      ]
     },
     "execution_count": 8,
     "metadata": {},
     "output_type": "execute_result"
    }
   ],
   "source": [
    "pd.isna(mastersheet).sum()"
   ]
  },
  {
   "attachments": {},
   "cell_type": "markdown",
   "metadata": {},
   "source": [
    "<h3>By entries</h3>\n",
    "How is the classification rate when we look at the entries?"
   ]
  },
  {
   "cell_type": "code",
   "execution_count": 9,
   "metadata": {},
   "outputs": [
    {
     "name": "stdout",
     "output_type": "stream",
     "text": [
      "Manual classification - by entries:\n",
      " Total entries: 21721\n",
      " Classified: 13522 | 0.6225311910133051\n",
      " Unclassified: 8199 | 0.3774688089866949\n"
     ]
    }
   ],
   "source": [
    "total_entr = len(mastersheet)\n",
    "\n",
    "amount_class = total_entr - pd.isna(mastersheet['CYP2C9.1']).sum()\n",
    "perc_class = amount_class/total_entr\n",
    "\n",
    "amount_unclass = pd.isna(mastersheet['CYP2C9.1']).sum()\n",
    "perc_unclass = amount_unclass/total_entr\n",
    "\n",
    "print(f'Manual classification - by entries:\\n', \n",
    "    f'Total entries: {total_entr}\\n', \n",
    "    f'Classified: {amount_class} | {perc_class}\\n',\n",
    "    f'Unclassified: {amount_unclass} | {perc_unclass}')\n",
    "del total_entr, amount_class, perc_class, amount_unclass, perc_unclass"
   ]
  },
  {
   "cell_type": "code",
   "execution_count": 10,
   "metadata": {},
   "outputs": [
    {
     "name": "stdout",
     "output_type": "stream",
     "text": [
      "Automatic classification - by entries (ATC only):\n",
      " Total entries: 21721\n",
      " Classified: 19746 | 0.9090741678559919\n",
      " Unclassified: 1975 | 0.09092583214400811\n"
     ]
    }
   ],
   "source": [
    "total_entr = len(drcatc)\n",
    "\n",
    "s = drcatc.AllInteraction.str.contains('err1', regex=False)\n",
    "drcatc_err = drcatc.loc[s]\n",
    "drcatc_errno = drcatc.loc[~s]\n",
    "\n",
    "amount_class = len(drcatc_errno)\n",
    "perc_class = amount_class/total_entr\n",
    "\n",
    "amount_unclass = len(drcatc_err)\n",
    "perc_unclass = amount_unclass/total_entr\n",
    "\n",
    "print(f'Automatic classification - by entries (ATC only):\\n', \n",
    "    f'Total entries: {total_entr}\\n', \n",
    "    f'Classified: {amount_class} | {perc_class}\\n',\n",
    "    f'Unclassified: {amount_unclass} | {perc_unclass}')\n",
    "del total_entr, amount_class, perc_class, amount_unclass, perc_unclass\n",
    "del drcatc_err, drcatc_errno, s"
   ]
  },
  {
   "cell_type": "code",
   "execution_count": 11,
   "metadata": {},
   "outputs": [
    {
     "name": "stdout",
     "output_type": "stream",
     "text": [
      "Automatic classification - by entries (ATC and substance name):\n",
      " Total entries: 21721\n",
      " Classified: 20738 | 0.9547442567100962\n",
      " Unclassified: 983 | 0.04525574328990378\n"
     ]
    }
   ],
   "source": [
    "total_entr = len(mastersheet)\n",
    "\n",
    "amount_class = total_entr - pd.isna(mastersheet['2d6sub']).sum()\n",
    "perc_class = amount_class/total_entr\n",
    "\n",
    "amount_unclass = pd.isna(mastersheet['2d6sub']).sum()\n",
    "perc_unclass = amount_unclass/total_entr\n",
    "\n",
    "print(f'Automatic classification - by entries (ATC and substance name):\\n', \n",
    "    f'Total entries: {total_entr}\\n', \n",
    "    f'Classified: {amount_class} | {perc_class}\\n',\n",
    "    f'Unclassified: {amount_unclass} | {perc_unclass}')\n",
    "del total_entr, amount_class, perc_class, amount_unclass, perc_unclass"
   ]
  },
  {
   "attachments": {},
   "cell_type": "markdown",
   "metadata": {},
   "source": [
    "<h3>By substances</h3>\n",
    "How is the classification rate when we look at the substances instead of entries?"
   ]
  },
  {
   "cell_type": "code",
   "execution_count": 12,
   "metadata": {},
   "outputs": [
    {
     "name": "stdout",
     "output_type": "stream",
     "text": [
      "Manual classification:\n",
      " Total entries: 995\n",
      " Classified: 110 | 0.11055276381909548\n",
      " Unclassified: 885 | 0.8894472361809045\n"
     ]
    }
   ],
   "source": [
    "# Extract from mastersheet\n",
    "man_mod = mastersheet.loc[:,[\"Z_Wirkstoff_Gesamt\",'CYP2C9.1']].copy()\n",
    "\n",
    "man_err = man_mod.loc[np.isnan(man_mod['CYP2C9.1'])]\n",
    "man_err_gr = man_err.groupby(by=[\"Z_Wirkstoff_Gesamt\"]).size()\n",
    "\n",
    "man_errno = man_mod.loc[~np.isnan(man_mod['CYP2C9.1'])]\n",
    "man_errno_gr = man_errno.groupby(by=[\"Z_Wirkstoff_Gesamt\"]).size() #110\n",
    "\n",
    "total_entr = len(man_mod.groupby(by=[\"Z_Wirkstoff_Gesamt\"]).size())\n",
    "\n",
    "amount_class = len(man_errno_gr)\n",
    "perc_class = amount_class / total_entr\n",
    "\n",
    "amount_unclass = len(man_err_gr)\n",
    "perc_unclass = amount_unclass / total_entr\n",
    "\n",
    "print(f'Manual classification:\\n', \n",
    "    f'Total entries: {total_entr}\\n', \n",
    "    f'Classified: {amount_class} | {perc_class}\\n',\n",
    "    f'Unclassified: {amount_unclass} | {perc_unclass}')\n",
    "del total_entr, amount_class, perc_class, amount_unclass, perc_unclass\n",
    "del man_mod, man_err, man_err_gr, man_errno, man_errno_gr"
   ]
  },
  {
   "cell_type": "code",
   "execution_count": 13,
   "metadata": {},
   "outputs": [
    {
     "name": "stdout",
     "output_type": "stream",
     "text": [
      "Automatic classification - by substances (ATC only):\n",
      " Total entries: 995\n",
      " Classified: 703 | 0.7065326633165829\n",
      " Unclassified: 349 | 0.3507537688442211\n",
      " Classified (calculated): 646 | 0.649246231155779\n"
     ]
    }
   ],
   "source": [
    "m_mod = drcatc.copy()\n",
    "s = m_mod.AllInteraction.str.contains('err1', regex=False)\n",
    "m_mod_err = m_mod.loc[s]\n",
    "m_mod_err_gr = m_mod_err.groupby(by=[\"Z_Wirkstoff_Gesamt\"]).size()\n",
    "m_mod_errno = m_mod.loc[~s]\n",
    "m_mod_errno_gr = m_mod_errno.groupby(by=[\"Z_Wirkstoff_Gesamt\"]).size()\n",
    "\n",
    "total_entr = len(m_mod.groupby(by=[\"Z_Wirkstoff_Gesamt\"]).size())\n",
    "\n",
    "amount_class = len(m_mod_errno_gr)\n",
    "perc_class = amount_class / total_entr\n",
    "\n",
    "amount_unclass = len(m_mod_err_gr)\n",
    "perc_unclass = amount_unclass / total_entr\n",
    "\n",
    "print(f'Automatic classification - by substances (ATC only):\\n', \n",
    "    f'Total entries: {total_entr}\\n', \n",
    "    f'Classified: {amount_class} | {perc_class}\\n',\n",
    "    f'Unclassified: {amount_unclass} | {perc_unclass}\\n', \n",
    "    f'Classified (calculated): {total_entr-amount_unclass} | {1.00-perc_unclass}')\n",
    "\n",
    "del s, m_mod, m_mod_err, m_mod_err_gr, m_mod_errno, m_mod_errno_gr"
   ]
  },
  {
   "cell_type": "code",
   "execution_count": 14,
   "metadata": {},
   "outputs": [
    {
     "name": "stdout",
     "output_type": "stream",
     "text": [
      "Automatic classification - by substances (ATC and substance name):\n",
      " Total entries: 995\n",
      " Classified: 772 | 0.7758793969849246\n",
      " Unclassified: 238 | 0.23919597989949748\n",
      " Classified (calculated): 757 | 0.7608040201005025\n"
     ]
    }
   ],
   "source": [
    "s = drc.AllInteraction.str.contains('err1', regex=False)\n",
    "drc_err = drc.loc[s]\n",
    "drc_err_gr = drc_err.groupby(by=[\"Z_Wirkstoff_Gesamt\"]).size()\n",
    "drc_errno = drc.loc[~s]\n",
    "drc_errno_gr = drc_errno.groupby(by=[\"Z_Wirkstoff_Gesamt\"]).size()\n",
    "\n",
    "total_entr = len(drc.groupby(by=[\"Z_Wirkstoff_Gesamt\"]).size())\n",
    "\n",
    "amount_class = len(drc_errno_gr)\n",
    "perc_class = amount_class / total_entr\n",
    "\n",
    "amount_unclass = len(drc_err_gr)\n",
    "perc_unclass = amount_unclass / total_entr\n",
    "\n",
    "print(f'Automatic classification - by substances (ATC and substance name):\\n', \n",
    "    f'Total entries: {total_entr}\\n', \n",
    "    f'Classified: {amount_class} | {perc_class}\\n',\n",
    "    f'Unclassified: {amount_unclass} | {perc_unclass}\\n',\n",
    "    f'Classified (calculated): {total_entr-amount_unclass} | {1.00-perc_unclass}')\n",
    "del total_entr, amount_class, perc_class, amount_unclass, perc_unclass\n",
    "del s, drc_err"
   ]
  },
  {
   "attachments": {},
   "cell_type": "markdown",
   "metadata": {},
   "source": [
    "The numbers from the automatic classification did not add up to 100%, reason is that there are substances that have been both classified and unclassified. The reason is probably that the same substance has different ATC codes. Some of them could be found while others not and the substance could not been identified by the substance name. <br>\n",
    "Therefore added Classified calculated.<br>\n",
    "<br>\n",
    "Here it can be seen, where the difference between Classified and Classified (calculated) comes from:"
   ]
  },
  {
   "cell_type": "code",
   "execution_count": 15,
   "metadata": {},
   "outputs": [
    {
     "name": "stdout",
     "output_type": "stream",
     "text": [
      "['Insulin-Isophan (human)', 'Macrogol', 'Ipratropiumbromid', 'Hyaluronsäure', 'Insulin (human)', 'Calciumfolinat', 'Leuprorelin', 'Beclometason', 'Aciclovir', 'Eisen(II)glycinsulfat', 'Acetylsalicylsäure', 'Ciclosporin', 'Cineol', 'Natriumchlorid', 'Kaliumchlorid']\n",
      "15\n"
     ]
    }
   ],
   "source": [
    "a = set(drc_err_gr.index)\n",
    "b = set(drc_errno_gr.index)\n",
    "overlap = list(a & b)\n",
    "print(overlap)\n",
    "print(len(overlap))\n",
    "del a,b"
   ]
  },
  {
   "attachments": {},
   "cell_type": "markdown",
   "metadata": {},
   "source": [
    "<h2>NaN Differences</h2>\n",
    "Analyze the difference between the NaNs:"
   ]
  },
  {
   "cell_type": "code",
   "execution_count": 16,
   "metadata": {},
   "outputs": [],
   "source": [
    "# Check enzyme \n",
    "\n",
    "# 0 if you want to test the automatic method\n",
    "# 1 if you want to test the manual method\n",
    "\n",
    "\n",
    "def compare_nan(enzyme, whosperformance):\n",
    "    data = mastersheet.copy()\n",
    "    # Drop all na from the method that you do not want to test\n",
    "    if whosperformance == 0: \n",
    "        # I do not want to test the manual method\n",
    "        data.dropna(subset=['CYP2C19.1', 'CYP2C9.1', 'CYP2D6.1'], inplace=True)\n",
    "    elif (whosperformance == 1): \n",
    "        # I do not want to test the automatic method\n",
    "        data.dropna(subset=['2d6sub', '2c19sub', '2c9sub'], inplace=True)\n",
    "    # For the method I want to test, check which NaNs are left, \n",
    "    # these are the one that the other method managed to find\n",
    "    isnamedis = data.loc[pd.isna(data[enzyme])]\n",
    "    table = isnamedis['Z_Wirkstoff_Gesamt'].value_counts()\n",
    "    return table\n",
    "\n",
    "def compare_nan_pairwise(li):\n",
    "    # NaNs that the Computer produced (but hand does not)\n",
    "    li1 = compare_nan(li[0], 0)\n",
    "    # NaNs that the Hand produced (but the Computer does not)\n",
    "    li2 = compare_nan(li[1], 1)\n",
    "    return li1, li2\n",
    "\n"
   ]
  },
  {
   "attachments": {},
   "cell_type": "markdown",
   "metadata": {},
   "source": [
    "All the enzymes can be put into the function, the first focuses on the limitations of the computer, the second table on the limitations of the manual method"
   ]
  },
  {
   "cell_type": "code",
   "execution_count": 17,
   "metadata": {},
   "outputs": [
    {
     "name": "stdout",
     "output_type": "stream",
     "text": [
      "{'2d6': ['2d6sub', 'CYP2D6.1'], '2c9': ['2c9sub', 'CYP2C9.1'], '2c19': ['2c19sub', 'CYP2C19.1']}\n",
      "Z_Wirkstoff_Gesamt    154.000000\n",
      "portion_entr            0.007090\n",
      "portion_subs            0.154774\n",
      "dtype: float64\n",
      "Z_Wirkstoff_Gesamt    7370.000000\n",
      "portion_entr             0.339303\n",
      "portion_subs             7.407035\n",
      "dtype: float64\n"
     ]
    }
   ],
   "source": [
    "print(pair)\n",
    "\n",
    "# It does not matter which enzyme to pick \n",
    "table_nan1, table_nan2 = compare_nan_pairwise(pair['2c9'])\n",
    "\n",
    "total_subs = len(mastersheet.groupby(by=[\"Z_Wirkstoff_Gesamt\"]).size())\n",
    "total_entr = len(mastersheet)\n",
    "\n",
    "table_nan1 = table_nan1.to_frame()\n",
    "table_nan1['portion_entr'] = table_nan1['Z_Wirkstoff_Gesamt'] / total_entr\n",
    "table_nan1['portion_subs'] = table_nan1['Z_Wirkstoff_Gesamt'] / total_subs\n",
    "\n",
    "table_nan2 = table_nan2.to_frame()\n",
    "table_nan2['portion_entr'] = table_nan2['Z_Wirkstoff_Gesamt'] / total_entr\n",
    "table_nan2['portion_subs'] = table_nan2['Z_Wirkstoff_Gesamt'] / total_subs\n",
    "\n",
    "print(table_nan1.sum())\n",
    "print(table_nan2.sum())"
   ]
  },
  {
   "attachments": {},
   "cell_type": "markdown",
   "metadata": {},
   "source": [
    "<h2>Compare classification differences</h2>"
   ]
  },
  {
   "attachments": {},
   "cell_type": "markdown",
   "metadata": {},
   "source": [
    "Now, delete all unclassified entries / substances and focus on the classified ones. See how many entries are left and calculate the differences. "
   ]
  },
  {
   "cell_type": "code",
   "execution_count": 18,
   "metadata": {},
   "outputs": [
    {
     "name": "stdout",
     "output_type": "stream",
     "text": [
      "Number of entries:  13368\n",
      "Number of substances:  91\n"
     ]
    }
   ],
   "source": [
    "data = mastersheet.copy()\n",
    "\n",
    "data.dropna(subset=['2d6sub', '2c19sub', '2c9sub', 'CYP2D6.1', 'CYP2C19.1', 'CYP2C9.1'], inplace=True)\n",
    "print(\"Number of entries: \", len(data))\n",
    "print(\"Number of substances: \", len(data.groupby(by=[\"Z_Wirkstoff_Gesamt\"]).size()))\n",
    "\n",
    "\n"
   ]
  },
  {
   "attachments": {},
   "cell_type": "markdown",
   "metadata": {},
   "source": [
    "Change Bisoprolol to 0, since we have updated our manual bisoprolol classification"
   ]
  },
  {
   "cell_type": "code",
   "execution_count": 19,
   "metadata": {},
   "outputs": [],
   "source": [
    "s = data.Z_Wirkstoff_Gesamt.str.contains('Bisoprolol')\n",
    "data.loc[s, 'CYP2D6.1'] = 0.000\n",
    "data = data.copy()\n",
    "del s"
   ]
  },
  {
   "attachments": {},
   "cell_type": "markdown",
   "metadata": {},
   "source": [
    "<h3>Compare portion ob substrates by entry</h3>"
   ]
  },
  {
   "cell_type": "code",
   "execution_count": 20,
   "metadata": {},
   "outputs": [
    {
     "name": "stdout",
     "output_type": "stream",
     "text": [
      "2d6sub       2509.0\n",
      "2c19sub      2906.0\n",
      "2c9sub       3511.0\n",
      "CYP2C9.1     1737.0\n",
      "CYP2C19.1    2010.0\n",
      "CYP2D6.1     2507.0\n",
      "dtype: float64\n",
      "\n",
      "2d6sub       0.187687\n",
      "2c19sub      0.217385\n",
      "2c9sub       0.262642\n",
      "CYP2C9.1     0.129937\n",
      "CYP2C19.1    0.150359\n",
      "CYP2D6.1     0.187537\n",
      "dtype: float64\n"
     ]
    }
   ],
   "source": [
    "\n",
    "# Wie viele Positives gibt es im Datenset?\n",
    "print(data.iloc[:,4:].sum())\n",
    "print()\n",
    "print(data.iloc[:,4:].sum() / len(data))"
   ]
  },
  {
   "attachments": {},
   "cell_type": "markdown",
   "metadata": {},
   "source": [
    "<h3>Compare portion on substrates by substance</h3>"
   ]
  },
  {
   "attachments": {},
   "cell_type": "markdown",
   "metadata": {},
   "source": [
    "Group all entries into substances and use one hot encoding to see if this substance is a substrate or not. "
   ]
  },
  {
   "cell_type": "code",
   "execution_count": 21,
   "metadata": {},
   "outputs": [
    {
     "name": "stdout",
     "output_type": "stream",
     "text": [
      "2d6sub       17.0\n",
      "2c19sub      15.0\n",
      "2c9sub       24.0\n",
      "CYP2C9.1      9.0\n",
      "CYP2C19.1     9.0\n",
      "CYP2D6.1     15.0\n",
      "dtype: float64\n",
      "\n",
      "2d6sub       0.186813\n",
      "2c19sub      0.164835\n",
      "2c9sub       0.263736\n",
      "CYP2C9.1     0.098901\n",
      "CYP2C19.1    0.098901\n",
      "CYP2D6.1     0.164835\n",
      "dtype: float64\n"
     ]
    }
   ],
   "source": [
    "data_med = data.groupby(by=['Z_Wirkstoff_Gesamt']).sum()\n",
    "data_med[data_med > 0] = 1\n",
    "print(data_med.sum())\n",
    "print()\n",
    "print(data_med.sum() / len(data_med))"
   ]
  },
  {
   "attachments": {},
   "cell_type": "markdown",
   "metadata": {},
   "source": [
    "<h3>Show classifcation differences</h3>"
   ]
  },
  {
   "cell_type": "code",
   "execution_count": 22,
   "metadata": {},
   "outputs": [
    {
     "name": "stdout",
     "output_type": "stream",
     "text": [
      "\n",
      "Cohen's Kappa Score - by entries: 2d6, 2c19, 2c9\n",
      "0.9995091949037778\n",
      "0.7783337634251953\n",
      "0.5908276417167244\n"
     ]
    }
   ],
   "source": [
    "print(\"\\nCohen's Kappa Score - by entries: 2d6, 2c19, 2c9\")\n",
    "print(cohen_kappa_score(data['2d6sub'], data['CYP2D6.1']))\n",
    "print(cohen_kappa_score(data['2c19sub'], data['CYP2C19.1']))\n",
    "print(cohen_kappa_score(data['2c9sub'], data['CYP2C9.1']))"
   ]
  },
  {
   "cell_type": "code",
   "execution_count": 23,
   "metadata": {},
   "outputs": [
    {
     "name": "stdout",
     "output_type": "stream",
     "text": [
      "\n",
      "Cohen's Kappa Score - by substances: 2d6, 2c19, 2c9\n",
      "0.9242298084929226\n",
      "0.7147335423197492\n",
      "0.46907817969661614\n"
     ]
    }
   ],
   "source": [
    "print(\"\\nCohen's Kappa Score - by substances: 2d6, 2c19, 2c9\")\n",
    "print(cohen_kappa_score(data_med['2d6sub'], data_med['CYP2D6.1']))\n",
    "print(cohen_kappa_score(data_med['2c19sub'], data_med['CYP2C19.1']))\n",
    "print(cohen_kappa_score(data_med['2c9sub'], data_med['CYP2C9.1']))"
   ]
  },
  {
   "cell_type": "code",
   "execution_count": 24,
   "metadata": {},
   "outputs": [],
   "source": [
    "def find_diff(li):\n",
    "    opt = data[['Z_Wirkstoff_Gesamt',li[0], li[1]]]\n",
    "    optdiff = opt.loc[opt.loc[:,li[0]] != opt.loc[:,li[1]]]\n",
    "    optgb = optdiff.groupby(by=[\"Z_Wirkstoff_Gesamt\"]).sum()\n",
    "    return optgb"
   ]
  },
  {
   "cell_type": "code",
   "execution_count": 25,
   "metadata": {},
   "outputs": [],
   "source": [
    "#table = find_diff(pair['2d6'])\n",
    "table = find_diff(pair['2c9'])"
   ]
  }
 ],
 "metadata": {
  "kernelspec": {
   "display_name": "4.py",
   "language": "python",
   "name": "python3"
  },
  "language_info": {
   "codemirror_mode": {
    "name": "ipython",
    "version": 3
   },
   "file_extension": ".py",
   "mimetype": "text/x-python",
   "name": "python",
   "nbconvert_exporter": "python",
   "pygments_lexer": "ipython3",
   "version": "3.10.0"
  },
  "orig_nbformat": 4,
  "vscode": {
   "interpreter": {
    "hash": "317f4e2ddc699587da4f859345646d4e102f2c1cce895863f8fd5b6160721a1c"
   }
  }
 },
 "nbformat": 4,
 "nbformat_minor": 2
}
